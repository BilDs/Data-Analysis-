{
 "cells": [
  {
   "cell_type": "markdown",
   "id": "5625ee68",
   "metadata": {},
   "source": [
    " <h1><center>HR Analysis </center></h1>"
   ]
  },
  {
   "cell_type": "markdown",
   "id": "d53a61ca",
   "metadata": {},
   "source": [
    "### Introduction:\n",
    "In this Jupyter notebook I'm going to analyze a dataset of employees in a company to understand why some employees leave the company, we have many data about employees like their salary, rate of promotions they get from work, their satisfaction level,the number of hours they work per month, the department where they work etc.\n",
    "So the problem to solve: Why do these employees leave the company? What make them leave?"
   ]
  },
  {
   "cell_type": "markdown",
   "id": "3fdb826d",
   "metadata": {},
   "source": [
    "So I'm going to import my dataset to work on and the libraries I need to handle these data:"
   ]
  },
  {
   "cell_type": "code",
   "execution_count": 1,
   "id": "85757449",
   "metadata": {},
   "outputs": [],
   "source": [
    "import pandas as pd\n",
    "import matplotlib.pyplot as plt"
   ]
  },
  {
   "cell_type": "code",
   "execution_count": 2,
   "id": "86415892",
   "metadata": {},
   "outputs": [],
   "source": [
    "df= pd.read_csv(\"C:/Users/user/Desktop/Spb/HR_comma_sep.csv\")"
   ]
  },
  {
   "cell_type": "code",
   "execution_count": 3,
   "id": "1970224d",
   "metadata": {},
   "outputs": [
    {
     "data": {
      "text/html": [
       "<div>\n",
       "<style scoped>\n",
       "    .dataframe tbody tr th:only-of-type {\n",
       "        vertical-align: middle;\n",
       "    }\n",
       "\n",
       "    .dataframe tbody tr th {\n",
       "        vertical-align: top;\n",
       "    }\n",
       "\n",
       "    .dataframe thead th {\n",
       "        text-align: right;\n",
       "    }\n",
       "</style>\n",
       "<table border=\"1\" class=\"dataframe\">\n",
       "  <thead>\n",
       "    <tr style=\"text-align: right;\">\n",
       "      <th></th>\n",
       "      <th>satisfaction_level</th>\n",
       "      <th>last_evaluation</th>\n",
       "      <th>number_project</th>\n",
       "      <th>average_montly_hours</th>\n",
       "      <th>time_spend_company</th>\n",
       "      <th>Work_accident</th>\n",
       "      <th>left</th>\n",
       "      <th>promotion_last_5years</th>\n",
       "      <th>Department</th>\n",
       "      <th>salary</th>\n",
       "    </tr>\n",
       "  </thead>\n",
       "  <tbody>\n",
       "    <tr>\n",
       "      <th>0</th>\n",
       "      <td>0.38</td>\n",
       "      <td>0.53</td>\n",
       "      <td>2</td>\n",
       "      <td>157</td>\n",
       "      <td>3</td>\n",
       "      <td>0</td>\n",
       "      <td>1</td>\n",
       "      <td>0</td>\n",
       "      <td>sales</td>\n",
       "      <td>low</td>\n",
       "    </tr>\n",
       "    <tr>\n",
       "      <th>1</th>\n",
       "      <td>0.80</td>\n",
       "      <td>0.86</td>\n",
       "      <td>5</td>\n",
       "      <td>262</td>\n",
       "      <td>6</td>\n",
       "      <td>0</td>\n",
       "      <td>1</td>\n",
       "      <td>0</td>\n",
       "      <td>sales</td>\n",
       "      <td>medium</td>\n",
       "    </tr>\n",
       "    <tr>\n",
       "      <th>2</th>\n",
       "      <td>0.11</td>\n",
       "      <td>0.88</td>\n",
       "      <td>7</td>\n",
       "      <td>272</td>\n",
       "      <td>4</td>\n",
       "      <td>0</td>\n",
       "      <td>1</td>\n",
       "      <td>0</td>\n",
       "      <td>sales</td>\n",
       "      <td>medium</td>\n",
       "    </tr>\n",
       "    <tr>\n",
       "      <th>3</th>\n",
       "      <td>0.72</td>\n",
       "      <td>0.87</td>\n",
       "      <td>5</td>\n",
       "      <td>223</td>\n",
       "      <td>5</td>\n",
       "      <td>0</td>\n",
       "      <td>1</td>\n",
       "      <td>0</td>\n",
       "      <td>sales</td>\n",
       "      <td>low</td>\n",
       "    </tr>\n",
       "    <tr>\n",
       "      <th>4</th>\n",
       "      <td>0.37</td>\n",
       "      <td>0.52</td>\n",
       "      <td>2</td>\n",
       "      <td>159</td>\n",
       "      <td>3</td>\n",
       "      <td>0</td>\n",
       "      <td>1</td>\n",
       "      <td>0</td>\n",
       "      <td>sales</td>\n",
       "      <td>low</td>\n",
       "    </tr>\n",
       "  </tbody>\n",
       "</table>\n",
       "</div>"
      ],
      "text/plain": [
       "   satisfaction_level  last_evaluation  number_project  average_montly_hours  \\\n",
       "0                0.38             0.53               2                   157   \n",
       "1                0.80             0.86               5                   262   \n",
       "2                0.11             0.88               7                   272   \n",
       "3                0.72             0.87               5                   223   \n",
       "4                0.37             0.52               2                   159   \n",
       "\n",
       "   time_spend_company  Work_accident  left  promotion_last_5years Department  \\\n",
       "0                   3              0     1                      0      sales   \n",
       "1                   6              0     1                      0      sales   \n",
       "2                   4              0     1                      0      sales   \n",
       "3                   5              0     1                      0      sales   \n",
       "4                   3              0     1                      0      sales   \n",
       "\n",
       "   salary  \n",
       "0     low  \n",
       "1  medium  \n",
       "2  medium  \n",
       "3     low  \n",
       "4     low  "
      ]
     },
     "execution_count": 3,
     "metadata": {},
     "output_type": "execute_result"
    }
   ],
   "source": [
    "df.head()"
   ]
  },
  {
   "cell_type": "markdown",
   "id": "b1ae2e48",
   "metadata": {},
   "source": [
    "This is how my dataset looks like, in the column \"left\" when left = 1 means that the employee left, when left = 0 means that the employee stayed in the company, other attributes give details about the employee, like the number of hours worked per month, the number of projects and time spent ...etc. So I want to explore this dataset for more infos      "
   ]
  },
  {
   "cell_type": "code",
   "execution_count": 4,
   "id": "ee3880c7",
   "metadata": {},
   "outputs": [
    {
     "name": "stdout",
     "output_type": "stream",
     "text": [
      "<class 'pandas.core.frame.DataFrame'>\n",
      "RangeIndex: 14999 entries, 0 to 14998\n",
      "Data columns (total 10 columns):\n",
      " #   Column                 Non-Null Count  Dtype  \n",
      "---  ------                 --------------  -----  \n",
      " 0   satisfaction_level     14999 non-null  float64\n",
      " 1   last_evaluation        14999 non-null  float64\n",
      " 2   number_project         14999 non-null  int64  \n",
      " 3   average_montly_hours   14999 non-null  int64  \n",
      " 4   time_spend_company     14999 non-null  int64  \n",
      " 5   Work_accident          14999 non-null  int64  \n",
      " 6   left                   14999 non-null  int64  \n",
      " 7   promotion_last_5years  14999 non-null  int64  \n",
      " 8   Department             14999 non-null  object \n",
      " 9   salary                 14999 non-null  object \n",
      "dtypes: float64(2), int64(6), object(2)\n",
      "memory usage: 1.1+ MB\n"
     ]
    }
   ],
   "source": [
    "df.info()"
   ]
  },
  {
   "cell_type": "markdown",
   "id": "2f090b59",
   "metadata": {},
   "source": [
    "so I have 8 attributes and 14999 entities so 14999 employees, so all attributes have the same number of entities, so we don't have any missing values.\n",
    "So the next first thing I want to know is how many employees left the company? "
   ]
  },
  {
   "cell_type": "code",
   "execution_count": 8,
   "id": "f9670333",
   "metadata": {},
   "outputs": [
    {
     "data": {
      "text/plain": [
       "3571"
      ]
     },
     "execution_count": 8,
     "metadata": {},
     "output_type": "execute_result"
    }
   ],
   "source": [
    " df[df[\"left\"]==1][\"left\"].count()"
   ]
  },
  {
   "cell_type": "markdown",
   "id": "6957f794",
   "metadata": {},
   "source": [
    "The number of employees who left the company is: 3571 "
   ]
  },
  {
   "cell_type": "markdown",
   "id": "345157a2",
   "metadata": {},
   "source": [
    "Now I want to have the first statistical analysis about the employees who left and those who stayed comparing them by the number of projects they worked on in general, the promotions and working hour, so I will get the general statistics by checking the mean (average value) of each    "
   ]
  },
  {
   "cell_type": "code",
   "execution_count": 9,
   "id": "36cf4ea0",
   "metadata": {},
   "outputs": [
    {
     "data": {
      "text/html": [
       "<div>\n",
       "<style scoped>\n",
       "    .dataframe tbody tr th:only-of-type {\n",
       "        vertical-align: middle;\n",
       "    }\n",
       "\n",
       "    .dataframe tbody tr th {\n",
       "        vertical-align: top;\n",
       "    }\n",
       "\n",
       "    .dataframe thead th {\n",
       "        text-align: right;\n",
       "    }\n",
       "</style>\n",
       "<table border=\"1\" class=\"dataframe\">\n",
       "  <thead>\n",
       "    <tr style=\"text-align: right;\">\n",
       "      <th></th>\n",
       "      <th>satisfaction_level</th>\n",
       "      <th>last_evaluation</th>\n",
       "      <th>number_project</th>\n",
       "      <th>average_montly_hours</th>\n",
       "      <th>time_spend_company</th>\n",
       "      <th>Work_accident</th>\n",
       "      <th>promotion_last_5years</th>\n",
       "    </tr>\n",
       "    <tr>\n",
       "      <th>left</th>\n",
       "      <th></th>\n",
       "      <th></th>\n",
       "      <th></th>\n",
       "      <th></th>\n",
       "      <th></th>\n",
       "      <th></th>\n",
       "      <th></th>\n",
       "    </tr>\n",
       "  </thead>\n",
       "  <tbody>\n",
       "    <tr>\n",
       "      <th>0</th>\n",
       "      <td>0.666810</td>\n",
       "      <td>0.715473</td>\n",
       "      <td>3.786664</td>\n",
       "      <td>199.060203</td>\n",
       "      <td>3.380032</td>\n",
       "      <td>0.175009</td>\n",
       "      <td>0.026251</td>\n",
       "    </tr>\n",
       "    <tr>\n",
       "      <th>1</th>\n",
       "      <td>0.440098</td>\n",
       "      <td>0.718113</td>\n",
       "      <td>3.855503</td>\n",
       "      <td>207.419210</td>\n",
       "      <td>3.876505</td>\n",
       "      <td>0.047326</td>\n",
       "      <td>0.005321</td>\n",
       "    </tr>\n",
       "  </tbody>\n",
       "</table>\n",
       "</div>"
      ],
      "text/plain": [
       "      satisfaction_level  last_evaluation  number_project  \\\n",
       "left                                                        \n",
       "0               0.666810         0.715473        3.786664   \n",
       "1               0.440098         0.718113        3.855503   \n",
       "\n",
       "      average_montly_hours  time_spend_company  Work_accident  \\\n",
       "left                                                            \n",
       "0               199.060203            3.380032       0.175009   \n",
       "1               207.419210            3.876505       0.047326   \n",
       "\n",
       "      promotion_last_5years  \n",
       "left                         \n",
       "0                  0.026251  \n",
       "1                  0.005321  "
      ]
     },
     "execution_count": 9,
     "metadata": {},
     "output_type": "execute_result"
    }
   ],
   "source": [
    "df.groupby([\"left\"]).mean()"
   ]
  },
  {
   "cell_type": "markdown",
   "id": "aed7cd77",
   "metadata": {},
   "source": [
    "**First impression:**<br>\n",
    "\n",
    "The first impression we get and we notice is that the satisfaction level is 66% for employees who stayed in the company, so they are satisfied, but the satisfaction level for employees who left the company is low (44%)<br>\n",
    "The employees who left had to work more hours in a month than employees who are still in the company<br>\n",
    "Employees who left didn't almost get any promotion in the last 5 years otherwise, the employees who are still working got more promotions<br>\n",
    "Employees who left had slightly more projects to work on than the employees who are still working in the company, but the difference is very low. same for the time spent in the company."
   ]
  },
  {
   "cell_type": "markdown",
   "id": "560c6fc3",
   "metadata": {},
   "source": [
    "Now the next thing I want to see is if the salary caused the departure of these employees, that's the first logical hypothesis we can make!\n",
    "To do so I decided to use bar graphs to analyze and visualize that"
   ]
  },
  {
   "cell_type": "code",
   "execution_count": 13,
   "id": "6170df94",
   "metadata": {},
   "outputs": [
    {
     "data": {
      "text/plain": [
       "<AxesSubplot:title={'center':'impact of salary on employees departure'}, xlabel='salary', ylabel='num of employees'>"
      ]
     },
     "execution_count": 13,
     "metadata": {},
     "output_type": "execute_result"
    },
    {
     "data": {
      "image/png": "[encoded data removed]",
      "text/plain": [
       "<Figure size 504x504 with 1 Axes>"
      ]
     },
     "metadata": {
      "needs_background": "light"
     },
     "output_type": "display_data"
    }
   ],
   "source": [
    "df[df[\"left\"]==1].groupby([\"salary\"])[\"left\"].count().plot(kind=\"bar\", figsize=(7,7), ylabel=\"num of employees\", title=\"impact of salary on employees departure\")"
   ]
  },
  {
   "cell_type": "markdown",
   "id": "945816b3",
   "metadata": {},
   "source": [
    "It seems that nobody with a high salary left the company, those who had a low and medium salary all left the company, so salary had a big impact on that  "
   ]
  },
  {
   "cell_type": "markdown",
   "id": "de686a92",
   "metadata": {},
   "source": [
    "I want to compare the same thing but including employees who didn't leave, to check their salary in paralell with employees who left:"
   ]
  },
  {
   "cell_type": "code",
   "execution_count": 24,
   "id": "bb603ffe",
   "metadata": {},
   "outputs": [
    {
     "data": {
      "text/plain": [
       "<AxesSubplot:xlabel='salary'>"
      ]
     },
     "execution_count": 24,
     "metadata": {},
     "output_type": "execute_result"
    },
    {
     "data": {
      "image/png": "[encoded data removed]",
      "text/plain": [
       "<Figure size 504x288 with 1 Axes>"
      ]
     },
     "metadata": {
      "needs_background": "light"
     },
     "output_type": "display_data"
    }
   ],
   "source": [
    "pd.crosstab(df[\"salary\"], df[\"left\"]).plot(kind=\"bar\", figsize=(7,4))"
   ]
  },
  {
   "cell_type": "markdown",
   "id": "8ed77420",
   "metadata": {},
   "source": [
    "In another hand employees who stayed in the company, we have more than 1000 of them who are highly paid, but the majority are with a low and medium salary also but they stayed! so let's check why?\n",
    "for this I want to understand what are other criteria that made the employees stayed, so I did here some statistical analysis for employees who stayed comparing to their salary   "
   ]
  },
  {
   "cell_type": "code",
   "execution_count": 25,
   "id": "1b2dd030",
   "metadata": {},
   "outputs": [
    {
     "data": {
      "text/html": [
       "<div>\n",
       "<style scoped>\n",
       "    .dataframe tbody tr th:only-of-type {\n",
       "        vertical-align: middle;\n",
       "    }\n",
       "\n",
       "    .dataframe tbody tr th {\n",
       "        vertical-align: top;\n",
       "    }\n",
       "\n",
       "    .dataframe thead th {\n",
       "        text-align: right;\n",
       "    }\n",
       "</style>\n",
       "<table border=\"1\" class=\"dataframe\">\n",
       "  <thead>\n",
       "    <tr style=\"text-align: right;\">\n",
       "      <th></th>\n",
       "      <th>satisfaction_level</th>\n",
       "      <th>last_evaluation</th>\n",
       "      <th>number_project</th>\n",
       "      <th>average_montly_hours</th>\n",
       "      <th>time_spend_company</th>\n",
       "      <th>Work_accident</th>\n",
       "      <th>left</th>\n",
       "      <th>promotion_last_5years</th>\n",
       "    </tr>\n",
       "    <tr>\n",
       "      <th>salary</th>\n",
       "      <th></th>\n",
       "      <th></th>\n",
       "      <th></th>\n",
       "      <th></th>\n",
       "      <th></th>\n",
       "      <th></th>\n",
       "      <th></th>\n",
       "      <th></th>\n",
       "    </tr>\n",
       "  </thead>\n",
       "  <tbody>\n",
       "    <tr>\n",
       "      <th>high</th>\n",
       "      <td>0.651879</td>\n",
       "      <td>0.708606</td>\n",
       "      <td>3.789610</td>\n",
       "      <td>200.348052</td>\n",
       "      <td>3.693506</td>\n",
       "      <td>0.166234</td>\n",
       "      <td>0.0</td>\n",
       "      <td>0.062338</td>\n",
       "    </tr>\n",
       "    <tr>\n",
       "      <th>low</th>\n",
       "      <td>0.668103</td>\n",
       "      <td>0.717028</td>\n",
       "      <td>3.784603</td>\n",
       "      <td>198.617418</td>\n",
       "      <td>3.253888</td>\n",
       "      <td>0.183709</td>\n",
       "      <td>0.0</td>\n",
       "      <td>0.010109</td>\n",
       "    </tr>\n",
       "    <tr>\n",
       "      <th>medium</th>\n",
       "      <td>0.668875</td>\n",
       "      <td>0.715461</td>\n",
       "      <td>3.788068</td>\n",
       "      <td>199.214272</td>\n",
       "      <td>3.435952</td>\n",
       "      <td>0.168259</td>\n",
       "      <td>0.0</td>\n",
       "      <td>0.034315</td>\n",
       "    </tr>\n",
       "  </tbody>\n",
       "</table>\n",
       "</div>"
      ],
      "text/plain": [
       "        satisfaction_level  last_evaluation  number_project  \\\n",
       "salary                                                        \n",
       "high              0.651879         0.708606        3.789610   \n",
       "low               0.668103         0.717028        3.784603   \n",
       "medium            0.668875         0.715461        3.788068   \n",
       "\n",
       "        average_montly_hours  time_spend_company  Work_accident  left  \\\n",
       "salary                                                                  \n",
       "high              200.348052            3.693506       0.166234   0.0   \n",
       "low               198.617418            3.253888       0.183709   0.0   \n",
       "medium            199.214272            3.435952       0.168259   0.0   \n",
       "\n",
       "        promotion_last_5years  \n",
       "salary                         \n",
       "high                 0.062338  \n",
       "low                  0.010109  \n",
       "medium               0.034315  "
      ]
     },
     "execution_count": 25,
     "metadata": {},
     "output_type": "execute_result"
    }
   ],
   "source": [
    "df[df[\"left\"]==0].groupby([\"salary\"]).mean()"
   ]
  },
  {
   "cell_type": "markdown",
   "id": "6e0debd9",
   "metadata": {},
   "source": [
    "So those who stayed in the company, even with a low and medium salary they stayed and they are numerous more than those with a high salary, so after some statistical analysis they are more satisfied with their job with a rate of 66%, they have the same number of projects with those with high salaries but worked with fewer hours in the month and made more work accidents, and in addition to that they spend less time in the company comparing with those with high salary, so they could be beginners with less experience, that's why they stayed and were satisfied.    "
   ]
  },
  {
   "cell_type": "markdown",
   "id": "4aaceeb9",
   "metadata": {},
   "source": [
    "Now I want to see why the employees with a low and medium salary left, why they didn't stay like other employees who had even  a low and medium salary, what are the other criteria that made them decide to leave the company, so I do the same statistics like in the previous one and I compare   "
   ]
  },
  {
   "cell_type": "code",
   "execution_count": 27,
   "id": "7f84efc0",
   "metadata": {},
   "outputs": [
    {
     "data": {
      "text/html": [
       "<div>\n",
       "<style scoped>\n",
       "    .dataframe tbody tr th:only-of-type {\n",
       "        vertical-align: middle;\n",
       "    }\n",
       "\n",
       "    .dataframe tbody tr th {\n",
       "        vertical-align: top;\n",
       "    }\n",
       "\n",
       "    .dataframe thead th {\n",
       "        text-align: right;\n",
       "    }\n",
       "</style>\n",
       "<table border=\"1\" class=\"dataframe\">\n",
       "  <thead>\n",
       "    <tr style=\"text-align: right;\">\n",
       "      <th></th>\n",
       "      <th>satisfaction_level</th>\n",
       "      <th>last_evaluation</th>\n",
       "      <th>number_project</th>\n",
       "      <th>average_montly_hours</th>\n",
       "      <th>time_spend_company</th>\n",
       "      <th>Work_accident</th>\n",
       "      <th>left</th>\n",
       "      <th>promotion_last_5years</th>\n",
       "    </tr>\n",
       "    <tr>\n",
       "      <th>salary</th>\n",
       "      <th></th>\n",
       "      <th></th>\n",
       "      <th></th>\n",
       "      <th></th>\n",
       "      <th></th>\n",
       "      <th></th>\n",
       "      <th></th>\n",
       "      <th></th>\n",
       "    </tr>\n",
       "  </thead>\n",
       "  <tbody>\n",
       "    <tr>\n",
       "      <th>high</th>\n",
       "      <td>0.434512</td>\n",
       "      <td>0.644024</td>\n",
       "      <td>3.451220</td>\n",
       "      <td>193.097561</td>\n",
       "      <td>3.682927</td>\n",
       "      <td>0.000000</td>\n",
       "      <td>1.0</td>\n",
       "      <td>0.000000</td>\n",
       "    </tr>\n",
       "    <tr>\n",
       "      <th>low</th>\n",
       "      <td>0.441248</td>\n",
       "      <td>0.716994</td>\n",
       "      <td>3.836096</td>\n",
       "      <td>206.631215</td>\n",
       "      <td>3.874770</td>\n",
       "      <td>0.043738</td>\n",
       "      <td>1.0</td>\n",
       "      <td>0.006446</td>\n",
       "    </tr>\n",
       "    <tr>\n",
       "      <th>medium</th>\n",
       "      <td>0.438550</td>\n",
       "      <td>0.724571</td>\n",
       "      <td>3.912680</td>\n",
       "      <td>209.610478</td>\n",
       "      <td>3.891420</td>\n",
       "      <td>0.056188</td>\n",
       "      <td>1.0</td>\n",
       "      <td>0.003797</td>\n",
       "    </tr>\n",
       "  </tbody>\n",
       "</table>\n",
       "</div>"
      ],
      "text/plain": [
       "        satisfaction_level  last_evaluation  number_project  \\\n",
       "salary                                                        \n",
       "high              0.434512         0.644024        3.451220   \n",
       "low               0.441248         0.716994        3.836096   \n",
       "medium            0.438550         0.724571        3.912680   \n",
       "\n",
       "        average_montly_hours  time_spend_company  Work_accident  left  \\\n",
       "salary                                                                  \n",
       "high              193.097561            3.682927       0.000000   1.0   \n",
       "low               206.631215            3.874770       0.043738   1.0   \n",
       "medium            209.610478            3.891420       0.056188   1.0   \n",
       "\n",
       "        promotion_last_5years  \n",
       "salary                         \n",
       "high                 0.000000  \n",
       "low                  0.006446  \n",
       "medium               0.003797  "
      ]
     },
     "execution_count": 27,
     "metadata": {},
     "output_type": "execute_result"
    }
   ],
   "source": [
    "df[df[\"left\"]==1].groupby([\"salary\"]).mean()"
   ]
  },
  {
   "cell_type": "markdown",
   "id": "7e0f1df3",
   "metadata": {},
   "source": [
    "so if we compare for those who left, with a low and medium salary they worked even more than those with a high salary comparing to employees who stayed and had even more projects, so a lot of task to do with less salary.and in addition to that they were even more experienced, they spend more time in the company, so it seems logic."
   ]
  },
  {
   "cell_type": "markdown",
   "id": "54806a0f",
   "metadata": {},
   "source": [
    "So now I want to see the distribution of these employees who left with their departement, so how many employees left in each department: "
   ]
  },
  {
   "cell_type": "code",
   "execution_count": 34,
   "id": "bef43d32",
   "metadata": {},
   "outputs": [
    {
     "data": {
      "text/plain": [
       "<AxesSubplot:title={'center':'num of employees left in each department'}, xlabel='Department', ylabel='num of employees'>"
      ]
     },
     "execution_count": 34,
     "metadata": {},
     "output_type": "execute_result"
    },
    {
     "data": {
      "image/png": "[encoded data removed]",
      "text/plain": [
       "<Figure size 720x504 with 1 Axes>"
      ]
     },
     "metadata": {
      "needs_background": "light"
     },
     "output_type": "display_data"
    }
   ],
   "source": [
    "df[df[\"left\"]==1].groupby([\"Department\"])[\"left\"].count().plot(kind=\"bar\", figsize=(10,7), color=\"violet\", ylabel=\"num of employees\" ,title=\"num of employees left in each department\")\n"
   ]
  },
  {
   "cell_type": "code",
   "execution_count": 7,
   "id": "7d202dbc",
   "metadata": {},
   "outputs": [
    {
     "data": {
      "image/png": "[encoded data removed]",
      "text/plain": [
       "<Figure size 432x288 with 1 Axes>"
      ]
     },
     "metadata": {},
     "output_type": "display_data"
    }
   ],
   "source": [
    "dep_labels=df[df[\"left\"]==1].groupby([\"Department\"])[\"salary\"].count().index\n",
    "plt.axis=(\"equal\")\n",
    "plt.pie(df[df[\"left\"]==1].groupby([\"Department\"])[\"salary\"].count(),labels=dep_labels, radius=1.5, autopct=\"%0.0f%%\")\n",
    "plt.show()"
   ]
  },
  {
   "cell_type": "markdown",
   "id": "c9f02f59",
   "metadata": {},
   "source": [
    "So here we notice that most of the employees who left were working in the sales department with more than 1000 with a rate of 28%  "
   ]
  },
  {
   "cell_type": "markdown",
   "id": "37e34ea6",
   "metadata": {},
   "source": [
    "Now I want to see why the majority of employees who left are from the Sales department, so firstly I want to compare that with their salary in each department, see how these 2 impacts are related as we know that most of employees who left in all the company was because of the salary also:    "
   ]
  },
  {
   "cell_type": "code",
   "execution_count": 139,
   "id": "4288b77c",
   "metadata": {},
   "outputs": [
    {
     "data": {
      "text/plain": [
       "<AxesSubplot:xlabel='Department,salary'>"
      ]
     },
     "execution_count": 139,
     "metadata": {},
     "output_type": "execute_result"
    },
    {
     "data": {
      "image/png": "[encoded data removed]",
      "text/plain": [
       "<Figure size 720x504 with 1 Axes>"
      ]
     },
     "metadata": {
      "needs_background": "light"
     },
     "output_type": "display_data"
    }
   ],
   "source": [
    "df[df[\"left\"]==1].groupby([\"Department\",\"salary\"])[\"left\"].count().plot(kind=\"bar\", figsize=(10,7), color=\"violet\")"
   ]
  },
  {
   "cell_type": "markdown",
   "id": "c94d5624",
   "metadata": {},
   "source": [
    "if we go to sales department in the chart, we find that the majority of employees who left are those who had the lowest salary and who are from the sales department, that seems logical as we knew from my previous analysis that salary had an impact on employees who left. It seems the lowest salary in the company is given for employees in the sales department  "
   ]
  },
  {
   "cell_type": "markdown",
   "id": "c513d65b",
   "metadata": {},
   "source": [
    "### Conclusion:\n",
    "So Employees who left the company, they left because of the salary, they didn't have a high salary and they are even the experienced ones, they also worked on many projects with more working hours per week than the others.<br>\n",
    "Employees who left are mostly from the sales department, lower salary in that department seems the lowest salary in the company.<br>\n",
    "Employees who stayed in the company, those with high salary stayed all in the company, those with low and medium salary who stayed in the company, they stayed because they are with less experience and got satisfied with there work, also they did a lot of work accident and some of them got even some promotion in the last 5 years.   "
   ]
  }
 ],
 "metadata": {
  "kernelspec": {
   "display_name": "Python 3",
   "language": "python",
   "name": "python3"
  },
  "language_info": {
   "codemirror_mode": {
    "name": "ipython",
    "version": 3
   },
   "file_extension": ".py",
   "mimetype": "text/x-python",
   "name": "python",
   "nbconvert_exporter": "python",
   "pygments_lexer": "ipython3",
   "version": "3.7.4"
  }
 },
 "nbformat": 4,
 "nbformat_minor": 5
}
